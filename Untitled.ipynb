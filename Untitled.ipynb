{
 "cells": [
  {
   "cell_type": "code",
   "execution_count": 1,
   "id": "e9e22642-05dd-4365-a3c3-b129cb2182dd",
   "metadata": {},
   "outputs": [],
   "source": [
    "import psycopg2\n",
    "import os"
   ]
  },
  {
   "cell_type": "code",
   "execution_count": 2,
   "id": "87aa758c-ff9b-44d5-8058-84c8c65cf3c1",
   "metadata": {},
   "outputs": [],
   "source": [
    "conn = psycopg2.connect(host=\"localhost\", port=5432, user=\"postgres\", password=\"password\", database=\"yo\")\n",
    "curr = conn.cursor()"
   ]
  },
  {
   "cell_type": "code",
   "execution_count": 7,
   "id": "36994737-dac4-4d81-9918-54cbc756240a",
   "metadata": {},
   "outputs": [
    {
     "ename": "InvalidTextRepresentation",
     "evalue": "invalid input syntax for type double precision: \"\"\nCONTEXT:  COPY marks, line 166, column marks_obtained: \"\"\n",
     "output_type": "error",
     "traceback": [
      "\u001b[0;31m---------------------------------------------------------------------------\u001b[0m",
      "\u001b[0;31mInvalidTextRepresentation\u001b[0m                 Traceback (most recent call last)",
      "Cell \u001b[0;32mIn[7], line 2\u001b[0m\n\u001b[1;32m      1\u001b[0m \u001b[38;5;28;01mwith\u001b[39;00m \u001b[38;5;28mopen\u001b[39m(\u001b[38;5;124m\"\u001b[39m\u001b[38;5;124m/home/tanveer/Desktop/processed/class_7_a_hy_60.csv\u001b[39m\u001b[38;5;124m\"\u001b[39m, \u001b[38;5;124m\"\u001b[39m\u001b[38;5;124mr\u001b[39m\u001b[38;5;124m\"\u001b[39m) \u001b[38;5;28;01mas\u001b[39;00m f:\n\u001b[0;32m----> 2\u001b[0m     \u001b[43mcurr\u001b[49m\u001b[38;5;241;43m.\u001b[39;49m\u001b[43mcopy_from\u001b[49m\u001b[43m(\u001b[49m\u001b[43mf\u001b[49m\u001b[43m,\u001b[49m\u001b[43m \u001b[49m\u001b[38;5;124;43m\"\u001b[39;49m\u001b[38;5;124;43mmarks\u001b[39;49m\u001b[38;5;124;43m\"\u001b[39;49m\u001b[43m,\u001b[49m\u001b[43m \u001b[49m\u001b[43msep\u001b[49m\u001b[38;5;241;43m=\u001b[39;49m\u001b[38;5;124;43m\"\u001b[39;49m\u001b[38;5;124;43m,\u001b[39;49m\u001b[38;5;124;43m\"\u001b[39;49m\u001b[43m)\u001b[49m\n",
      "\u001b[0;31mInvalidTextRepresentation\u001b[0m: invalid input syntax for type double precision: \"\"\nCONTEXT:  COPY marks, line 166, column marks_obtained: \"\"\n"
     ]
    }
   ],
   "source": [
    "with open(\"/home/tanveer/Desktop/processed/class_7_a_hy_60.csv\", \"r\") as f:\n",
    "    curr.copy_from(f, \"marks\", sep=\",\")"
   ]
  },
  {
   "cell_type": "code",
   "execution_count": 6,
   "id": "c224063d-f222-4898-b9ba-4abd590319c5",
   "metadata": {},
   "outputs": [],
   "source": [
    "conn.commit()"
   ]
  },
  {
   "cell_type": "code",
   "execution_count": 47,
   "id": "4615f9ee-a30e-4185-9afb-e9158285c0b7",
   "metadata": {},
   "outputs": [],
   "source": [
    "conn.close()"
   ]
  },
  {
   "cell_type": "code",
   "execution_count": 19,
   "id": "833f9a09-6fe7-455b-b03d-bbb6011ba972",
   "metadata": {},
   "outputs": [],
   "source": [
    "processed_dir = \"/home/tanveer/Desktop/processed/\""
   ]
  },
  {
   "cell_type": "code",
   "execution_count": 14,
   "id": "2633df0f-c723-4c5d-8b35-b99c5c7b8052",
   "metadata": {},
   "outputs": [
    {
     "name": "stdout",
     "output_type": "stream",
     "text": [
      "/home/tanveer/Desktop/processed/class_6_a_hy_60.csv\n",
      "/home/tanveer/Desktop/processed/class_10_a_pt2_40.csv\n",
      "/home/tanveer/Desktop/processed/class_7_a_hy_60.csv\n",
      "/home/tanveer/Desktop/processed/class_6_b_hy_60.csv\n",
      "/home/tanveer/Desktop/processed/class_9_a_pt2_40.csv\n",
      "/home/tanveer/Desktop/processed/class_8_a_hy_60.csv\n",
      "/home/tanveer/Desktop/processed/class_10_b_pt2_40.csv\n"
     ]
    }
   ],
   "source": [
    "for file in os.listdir(processed_dir):\n",
    "    print(processed_dir+file)"
   ]
  },
  {
   "cell_type": "code",
   "execution_count": 25,
   "id": "6525cd34-d3b2-4dac-b930-bc10aa5434e0",
   "metadata": {},
   "outputs": [
    {
     "name": "stdout",
     "output_type": "stream",
     "text": [
      "class_6_a_hy_60.csv not loaded\n",
      "class_10_a_pt2_40.csv not loaded\n",
      "class_7_a_hy_60.csv not loaded\n",
      "class_6_b_hy_60.csv not loaded\n",
      "class_9_a_pt2_40.csv not loaded\n",
      "class_8_a_hy_60.csv not loaded\n",
      ".~lock.class_6_a_hy_60.csv# not loaded\n",
      "class_10_b_pt2_40.csv not loaded\n"
     ]
    }
   ],
   "source": [
    "for file in os.listdir(processed_dir):\n",
    "    try:\n",
    "        with open(processed_dir+file, \"r\") as f:\n",
    "            curr.copy_from(f, \"marks\", sep=\",\")\n",
    "            conn.commit()\n",
    "        print(file)\n",
    "    except:\n",
    "        print(file+\" not loaded\")"
   ]
  },
  {
   "cell_type": "code",
   "execution_count": 34,
   "id": "296a90fc-eb4f-4e9f-90ca-18d216228222",
   "metadata": {},
   "outputs": [],
   "source": [
    "import pandas as pd\n",
    "df = pd.read_csv(\"/home/tanveer/Desktop/processed/class_6_a_hy_60.csv\", header=None)\n",
    "df.columns = [\"roll\", \"name\", \"class\", \"sec\", \"exam\", \"exam_total\", \"subject\", \"marks\"]"
   ]
  },
  {
   "cell_type": "code",
   "execution_count": 35,
   "id": "1b2b234a-8365-4ff5-bd6c-5c06e8992e29",
   "metadata": {},
   "outputs": [
    {
     "data": {
      "text/html": [
       "<div>\n",
       "<style scoped>\n",
       "    .dataframe tbody tr th:only-of-type {\n",
       "        vertical-align: middle;\n",
       "    }\n",
       "\n",
       "    .dataframe tbody tr th {\n",
       "        vertical-align: top;\n",
       "    }\n",
       "\n",
       "    .dataframe thead th {\n",
       "        text-align: right;\n",
       "    }\n",
       "</style>\n",
       "<table border=\"1\" class=\"dataframe\">\n",
       "  <thead>\n",
       "    <tr style=\"text-align: right;\">\n",
       "      <th></th>\n",
       "      <th>roll</th>\n",
       "      <th>name</th>\n",
       "      <th>class</th>\n",
       "      <th>sec</th>\n",
       "      <th>exam</th>\n",
       "      <th>exam_total</th>\n",
       "      <th>subject</th>\n",
       "      <th>marks</th>\n",
       "    </tr>\n",
       "  </thead>\n",
       "  <tbody>\n",
       "    <tr>\n",
       "      <th>0</th>\n",
       "      <td>1</td>\n",
       "      <td>ANGELINA  BORAH</td>\n",
       "      <td>6</td>\n",
       "      <td>a</td>\n",
       "      <td>hy</td>\n",
       "      <td>60</td>\n",
       "      <td>sst</td>\n",
       "      <td>40.0</td>\n",
       "    </tr>\n",
       "    <tr>\n",
       "      <th>1</th>\n",
       "      <td>2</td>\n",
       "      <td>BONASHREE DAS</td>\n",
       "      <td>6</td>\n",
       "      <td>a</td>\n",
       "      <td>hy</td>\n",
       "      <td>60</td>\n",
       "      <td>sst</td>\n",
       "      <td>7.0</td>\n",
       "    </tr>\n",
       "    <tr>\n",
       "      <th>2</th>\n",
       "      <td>3</td>\n",
       "      <td>GARGI BHATTACHARJEE</td>\n",
       "      <td>6</td>\n",
       "      <td>a</td>\n",
       "      <td>hy</td>\n",
       "      <td>60</td>\n",
       "      <td>sst</td>\n",
       "      <td>13.0</td>\n",
       "    </tr>\n",
       "    <tr>\n",
       "      <th>3</th>\n",
       "      <td>4</td>\n",
       "      <td>JIYA   MANDAL</td>\n",
       "      <td>6</td>\n",
       "      <td>a</td>\n",
       "      <td>hy</td>\n",
       "      <td>60</td>\n",
       "      <td>sst</td>\n",
       "      <td>2.0</td>\n",
       "    </tr>\n",
       "    <tr>\n",
       "      <th>4</th>\n",
       "      <td>5</td>\n",
       "      <td>KASTURI SAIKIA</td>\n",
       "      <td>6</td>\n",
       "      <td>a</td>\n",
       "      <td>hy</td>\n",
       "      <td>60</td>\n",
       "      <td>sst</td>\n",
       "      <td>18.0</td>\n",
       "    </tr>\n",
       "    <tr>\n",
       "      <th>...</th>\n",
       "      <td>...</td>\n",
       "      <td>...</td>\n",
       "      <td>...</td>\n",
       "      <td>...</td>\n",
       "      <td>...</td>\n",
       "      <td>...</td>\n",
       "      <td>...</td>\n",
       "      <td>...</td>\n",
       "    </tr>\n",
       "    <tr>\n",
       "      <th>217</th>\n",
       "      <td>33</td>\n",
       "      <td>TANMOY CHAKRABORTY</td>\n",
       "      <td>6</td>\n",
       "      <td>a</td>\n",
       "      <td>hy</td>\n",
       "      <td>60</td>\n",
       "      <td>sanskrit</td>\n",
       "      <td>38.0</td>\n",
       "    </tr>\n",
       "    <tr>\n",
       "      <th>218</th>\n",
       "      <td>34</td>\n",
       "      <td>TANUSH KUMAR SAH</td>\n",
       "      <td>6</td>\n",
       "      <td>a</td>\n",
       "      <td>hy</td>\n",
       "      <td>60</td>\n",
       "      <td>sanskrit</td>\n",
       "      <td>58.0</td>\n",
       "    </tr>\n",
       "    <tr>\n",
       "      <th>219</th>\n",
       "      <td>35</td>\n",
       "      <td>UTKARSH RAJ</td>\n",
       "      <td>6</td>\n",
       "      <td>a</td>\n",
       "      <td>hy</td>\n",
       "      <td>60</td>\n",
       "      <td>sanskrit</td>\n",
       "      <td>38.0</td>\n",
       "    </tr>\n",
       "    <tr>\n",
       "      <th>220</th>\n",
       "      <td>36</td>\n",
       "      <td>WASHAF HAQUE</td>\n",
       "      <td>6</td>\n",
       "      <td>a</td>\n",
       "      <td>hy</td>\n",
       "      <td>60</td>\n",
       "      <td>sanskrit</td>\n",
       "      <td>20.0</td>\n",
       "    </tr>\n",
       "    <tr>\n",
       "      <th>221</th>\n",
       "      <td>37</td>\n",
       "      <td>AADESH MAHATO</td>\n",
       "      <td>6</td>\n",
       "      <td>a</td>\n",
       "      <td>hy</td>\n",
       "      <td>60</td>\n",
       "      <td>sanskrit</td>\n",
       "      <td>15.0</td>\n",
       "    </tr>\n",
       "  </tbody>\n",
       "</table>\n",
       "<p>222 rows × 8 columns</p>\n",
       "</div>"
      ],
      "text/plain": [
       "     roll                 name  class sec exam  exam_total   subject  marks\n",
       "0       1      ANGELINA  BORAH      6   a   hy          60       sst   40.0\n",
       "1       2        BONASHREE DAS      6   a   hy          60       sst    7.0\n",
       "2       3  GARGI BHATTACHARJEE      6   a   hy          60       sst   13.0\n",
       "3       4        JIYA   MANDAL      6   a   hy          60       sst    2.0\n",
       "4       5       KASTURI SAIKIA      6   a   hy          60       sst   18.0\n",
       "..    ...                  ...    ...  ..  ...         ...       ...    ...\n",
       "217    33   TANMOY CHAKRABORTY      6   a   hy          60  sanskrit   38.0\n",
       "218    34     TANUSH KUMAR SAH      6   a   hy          60  sanskrit   58.0\n",
       "219    35          UTKARSH RAJ      6   a   hy          60  sanskrit   38.0\n",
       "220    36         WASHAF HAQUE      6   a   hy          60  sanskrit   20.0\n",
       "221    37        AADESH MAHATO      6   a   hy          60  sanskrit   15.0\n",
       "\n",
       "[222 rows x 8 columns]"
      ]
     },
     "execution_count": 35,
     "metadata": {},
     "output_type": "execute_result"
    }
   ],
   "source": [
    "df"
   ]
  },
  {
   "cell_type": "code",
   "execution_count": 36,
   "id": "aef37560-c89b-4790-b148-ed51aad09a1e",
   "metadata": {},
   "outputs": [
    {
     "name": "stdout",
     "output_type": "stream",
     "text": [
      "<class 'pandas.core.frame.DataFrame'>\n",
      "RangeIndex: 222 entries, 0 to 221\n",
      "Data columns (total 8 columns):\n",
      " #   Column      Non-Null Count  Dtype  \n",
      "---  ------      --------------  -----  \n",
      " 0   roll        222 non-null    int64  \n",
      " 1   name        222 non-null    object \n",
      " 2   class       222 non-null    int64  \n",
      " 3   sec         222 non-null    object \n",
      " 4   exam        222 non-null    object \n",
      " 5   exam_total  222 non-null    int64  \n",
      " 6   subject     222 non-null    object \n",
      " 7   marks       216 non-null    float64\n",
      "dtypes: float64(1), int64(3), object(4)\n",
      "memory usage: 14.0+ KB\n"
     ]
    }
   ],
   "source": [
    "df.info()"
   ]
  },
  {
   "cell_type": "code",
   "execution_count": null,
   "id": "c392afe8-e586-4158-9c33-88ccad80102f",
   "metadata": {},
   "outputs": [],
   "source": []
  }
 ],
 "metadata": {
  "kernelspec": {
   "display_name": "Python 3 (ipykernel)",
   "language": "python",
   "name": "python3"
  },
  "language_info": {
   "codemirror_mode": {
    "name": "ipython",
    "version": 3
   },
   "file_extension": ".py",
   "mimetype": "text/x-python",
   "name": "python",
   "nbconvert_exporter": "python",
   "pygments_lexer": "ipython3",
   "version": "3.12.3"
  }
 },
 "nbformat": 4,
 "nbformat_minor": 5
}
