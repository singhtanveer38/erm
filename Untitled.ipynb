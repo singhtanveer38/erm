{
 "cells": [
  {
   "cell_type": "code",
   "execution_count": 30,
   "id": "e9e22642-05dd-4365-a3c3-b129cb2182dd",
   "metadata": {},
   "outputs": [],
   "source": [
    "import psycopg2"
   ]
  },
  {
   "cell_type": "code",
   "execution_count": 31,
   "id": "87aa758c-ff9b-44d5-8058-84c8c65cf3c1",
   "metadata": {},
   "outputs": [],
   "source": [
    "conn = psycopg2.connect(host=\"localhost\", port=5432, user=\"postgres\", password=\"password\", database=\"sample\")\n",
    "curr = conn.cursor()"
   ]
  },
  {
   "cell_type": "code",
   "execution_count": 32,
   "id": "36994737-dac4-4d81-9918-54cbc756240a",
   "metadata": {},
   "outputs": [],
   "source": [
    "with open(\"./sample_data.csv\", \"r\") as f:\n",
    "    curr.copy_from(f, \"info\", sep=\",\")"
   ]
  },
  {
   "cell_type": "code",
   "execution_count": 33,
   "id": "c224063d-f222-4898-b9ba-4abd590319c5",
   "metadata": {},
   "outputs": [],
   "source": [
    "conn.commit()"
   ]
  },
  {
   "cell_type": "code",
   "execution_count": 34,
   "id": "4615f9ee-a30e-4185-9afb-e9158285c0b7",
   "metadata": {},
   "outputs": [],
   "source": [
    "conn.close()"
   ]
  }
 ],
 "metadata": {
  "kernelspec": {
   "display_name": "Python 3 (ipykernel)",
   "language": "python",
   "name": "python3"
  },
  "language_info": {
   "codemirror_mode": {
    "name": "ipython",
    "version": 3
   },
   "file_extension": ".py",
   "mimetype": "text/x-python",
   "name": "python",
   "nbconvert_exporter": "python",
   "pygments_lexer": "ipython3",
   "version": "3.12.4"
  }
 },
 "nbformat": 4,
 "nbformat_minor": 5
}
